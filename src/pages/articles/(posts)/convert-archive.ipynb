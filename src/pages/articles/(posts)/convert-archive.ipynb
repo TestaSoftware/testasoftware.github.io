{
 "cells": [
  {
   "cell_type": "code",
   "execution_count": 2,
   "metadata": {
    "polyglot_notebook": {
     "kernelName": "csharp"
    }
   },
   "outputs": [
    {
     "data": {
      "text/html": [
       "<div><div></div><div></div><div><strong>Installed Packages</strong><ul><li><span>YamlDotNet, 11.2.1</span></li></ul></div></div>"
      ]
     },
     "metadata": {},
     "output_type": "display_data"
    }
   ],
   "source": [
    "#r \"nuget: YamlDotNet, 11.2.1\"\n",
    "\n",
    "using System;\n",
    "using System.IO;\n",
    "using System.Linq;\n",
    "using YamlDotNet.Serialization;\n",
    "using YamlDotNet.Serialization.NamingConventions;"
   ]
  },
  {
   "cell_type": "code",
   "execution_count": null,
   "metadata": {
    "polyglot_notebook": {
     "kernelName": "csharp"
    }
   },
   "outputs": [],
   "source": [
    "class ConvertArchive\n",
    "{\n",
    "    static void Main()\n",
    "    {\n",
    "        string targetDir = Path.Combine(AppDomain.CurrentDomain.BaseDirectory, \"./archive\");\n",
    "        ProcessMarkdownFiles(targetDir);\n",
    "    }\n",
    "\n",
    "    static void ProcessMarkdownFiles(string dir)\n",
    "    {\n",
    "        foreach (var file in Directory.GetFiles(dir, \"*.*\", SearchOption.AllDirectories)\n",
    "                                      .Where(f => f.EndsWith(\".md\") || f.EndsWith(\".mdx\")))\n",
    "        {\n",
    "            ConvertFrontmatter(file);\n",
    "        }\n",
    "    }\n",
    "\n",
    "    static void ConvertFrontmatter(string filePath)\n",
    "    {\n",
    "        string fileContent = File.ReadAllText(filePath);\n",
    "        var parts = fileContent.Split(new[] { \"---\" }, StringSplitOptions.RemoveEmptyEntries);\n",
    "\n",
    "        if (parts.Length < 2)\n",
    "        {\n",
    "            Console.WriteLine($\"No frontmatter found in: {filePath}\");\n",
    "            return;\n",
    "        }\n",
    "\n",
    "        string yamlFrontmatter = parts[0].Trim();\n",
    "        string content = string.Join(\"---\", parts.Skip(1)).Trim();\n",
    "\n",
    "        var deserializer = new DeserializerBuilder()\n",
    "            .WithNamingConvention(CamelCaseNamingConvention.Instance)\n",
    "            .Build();\n",
    "\n",
    "        var frontmatterData = deserializer.Deserialize<object>(yamlFrontmatter);\n",
    "\n",
    "        var frontmatterObject = $\"export const frontmatter = {System.Text.Json.JsonSerializer.Serialize(frontmatterData, new System.Text.Json.JsonSerializerOptions { WriteIndented = true })};\\n\\n{content}\";\n",
    "        File.WriteAllText(filePath, frontmatterObject);\n",
    "\n",
    "        Console.WriteLine($\"Processed: {filePath}\");\n",
    "    }\n",
    "}"
   ]
  },
  {
   "cell_type": "code",
   "execution_count": null,
   "metadata": {
    "polyglot_notebook": {
     "kernelName": "csharp"
    }
   },
   "outputs": [],
   "source": [
    "ConvertArchive.Main();"
   ]
  }
 ],
 "metadata": {
  "kernelspec": {
   "display_name": ".NET (C#)",
   "language": "C#",
   "name": ".net-csharp"
  },
  "polyglot_notebook": {
   "kernelInfo": {
    "defaultKernelName": "csharp",
    "items": [
     {
      "aliases": [],
      "languageName": "csharp",
      "name": "csharp"
     }
    ]
   }
  }
 },
 "nbformat": 4,
 "nbformat_minor": 2
}
